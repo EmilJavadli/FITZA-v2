{
 "cells": [
  {
   "cell_type": "code",
   "execution_count": 1,
   "id": "8bb999e0",
   "metadata": {},
   "outputs": [],
   "source": [
    "import google.generativeai as genai\n",
    "import os\n",
    "from dotenv import load_dotenv\n",
    "\n",
    "# Set your API key\n",
    "load_dotenv()\n",
    "gemini_api_key = os.getenv(\"GOOGLE_API_KEY\")\n",
    "genai.configure(api_key=gemini_api_key)\n",
    "\n",
    "# Initialize the Gemini model\n",
    "llm = genai.GenerativeModel('gemini-2.0-flash')"
   ]
  },
  {
   "cell_type": "code",
   "execution_count": 1,
   "id": "9b61c8f1",
   "metadata": {},
   "outputs": [],
   "source": [
    "import pdfplumber\n",
    "import pandas as pd\n",
    "\n",
    "def extract_tables_from_pdf(pdf_path):\n",
    "    tables = []\n",
    "    with pdfplumber.open(pdf_path) as pdf:\n",
    "        for page in pdf.pages:\n",
    "            table = page.extract_table()\n",
    "            if table:\n",
    "                df = pd.DataFrame(table[1:], columns=table[0])\n",
    "                tables.append(df)\n",
    "    return pd.concat(tables, ignore_index=True) if tables else pd.DataFrame()"
   ]
  },
  {
   "cell_type": "code",
   "execution_count": 2,
   "id": "6316c0bf",
   "metadata": {},
   "outputs": [],
   "source": [
    "pdf_path = \"data/pizza_ingredients.pdf\""
   ]
  },
  {
   "cell_type": "code",
   "execution_count": 4,
   "id": "8156fab6",
   "metadata": {},
   "outputs": [],
   "source": [
    "df = extract_tables_from_pdf(pdf_path)"
   ]
  },
  {
   "cell_type": "code",
   "execution_count": 5,
   "id": "0d56062c",
   "metadata": {},
   "outputs": [],
   "source": [
    "texts = df.apply(lambda row: \" | \".join(row.astype(str)), axis=1).tolist()"
   ]
  },
  {
   "cell_type": "code",
   "execution_count": 7,
   "id": "647b8223",
   "metadata": {},
   "outputs": [
    {
     "data": {
      "text/html": [
       "<div>\n",
       "<style scoped>\n",
       "    .dataframe tbody tr th:only-of-type {\n",
       "        vertical-align: middle;\n",
       "    }\n",
       "\n",
       "    .dataframe tbody tr th {\n",
       "        vertical-align: top;\n",
       "    }\n",
       "\n",
       "    .dataframe thead th {\n",
       "        text-align: right;\n",
       "    }\n",
       "</style>\n",
       "<table border=\"1\" class=\"dataframe\">\n",
       "  <thead>\n",
       "    <tr style=\"text-align: right;\">\n",
       "      <th></th>\n",
       "      <th>Pizza Name</th>\n",
       "      <th>Crust\\nType</th>\n",
       "      <th>Sauce</th>\n",
       "      <th>Cheese</th>\n",
       "      <th>Toppings</th>\n",
       "    </tr>\n",
       "  </thead>\n",
       "  <tbody>\n",
       "    <tr>\n",
       "      <th>0</th>\n",
       "      <td>Margherita</td>\n",
       "      <td>Thin</td>\n",
       "      <td>Tomato</td>\n",
       "      <td>Mozzarella</td>\n",
       "      <td>Basil</td>\n",
       "    </tr>\n",
       "    <tr>\n",
       "      <th>1</th>\n",
       "      <td>Pepperoni</td>\n",
       "      <td>Classic</td>\n",
       "      <td>Tomato</td>\n",
       "      <td>Mozzarella</td>\n",
       "      <td>Pepperoni</td>\n",
       "    </tr>\n",
       "    <tr>\n",
       "      <th>2</th>\n",
       "      <td>BBQ Chicken</td>\n",
       "      <td>Hand-\\ntossed</td>\n",
       "      <td>BBQ</td>\n",
       "      <td>Mozzarella,\\nCheddar</td>\n",
       "      <td>Grilled Chicken, Red Onion, Cilantro</td>\n",
       "    </tr>\n",
       "    <tr>\n",
       "      <th>3</th>\n",
       "      <td>Veggie\\nSupreme</td>\n",
       "      <td>Whole\\nWheat</td>\n",
       "      <td>Tomato</td>\n",
       "      <td>Mozzarella</td>\n",
       "      <td>Bell Peppers, Olives, Mushrooms, Onions</td>\n",
       "    </tr>\n",
       "    <tr>\n",
       "      <th>4</th>\n",
       "      <td>Hawaiian</td>\n",
       "      <td>Classic</td>\n",
       "      <td>Tomato</td>\n",
       "      <td>Mozzarella</td>\n",
       "      <td>Ham, Pineapple</td>\n",
       "    </tr>\n",
       "    <tr>\n",
       "      <th>5</th>\n",
       "      <td>Meat Lovers</td>\n",
       "      <td>Thick</td>\n",
       "      <td>Tomato</td>\n",
       "      <td>Mozzarella</td>\n",
       "      <td>Pepperoni, Sausage, Bacon, Ham</td>\n",
       "    </tr>\n",
       "    <tr>\n",
       "      <th>6</th>\n",
       "      <td>Four Cheese</td>\n",
       "      <td>Thin</td>\n",
       "      <td>Tomato</td>\n",
       "      <td>Mozzarella,\\nParmesan,\\nGorgonzola,\\nRicotta</td>\n",
       "      <td>—</td>\n",
       "    </tr>\n",
       "    <tr>\n",
       "      <th>7</th>\n",
       "      <td>Buffalo\\nChicken</td>\n",
       "      <td>Hand-\\ntossed</td>\n",
       "      <td>Buffalo\\nSauce</td>\n",
       "      <td>Mozzarella</td>\n",
       "      <td>Grilled Chicken, Red Onion, Ranch Drizzle</td>\n",
       "    </tr>\n",
       "    <tr>\n",
       "      <th>8</th>\n",
       "      <td>Mediterranean</td>\n",
       "      <td>Thin</td>\n",
       "      <td>Olive Oil &amp;\\nGarlic</td>\n",
       "      <td>Feta, Mozzarella</td>\n",
       "      <td>Kalamata Olives, Spinach, Sun-dried Tomatoes</td>\n",
       "    </tr>\n",
       "    <tr>\n",
       "      <th>9</th>\n",
       "      <td>Mushroom\\nTruffle</td>\n",
       "      <td>Thin</td>\n",
       "      <td>White\\nSauce</td>\n",
       "      <td>Mozzarella</td>\n",
       "      <td>Mushrooms, Truffle Oil</td>\n",
       "    </tr>\n",
       "  </tbody>\n",
       "</table>\n",
       "</div>"
      ],
      "text/plain": [
       "          Pizza Name    Crust\\nType                Sauce  \\\n",
       "0         Margherita           Thin               Tomato   \n",
       "1          Pepperoni        Classic               Tomato   \n",
       "2        BBQ Chicken  Hand-\\ntossed                  BBQ   \n",
       "3    Veggie\\nSupreme   Whole\\nWheat               Tomato   \n",
       "4           Hawaiian        Classic               Tomato   \n",
       "5        Meat Lovers          Thick               Tomato   \n",
       "6        Four Cheese           Thin               Tomato   \n",
       "7   Buffalo\\nChicken  Hand-\\ntossed       Buffalo\\nSauce   \n",
       "8      Mediterranean           Thin  Olive Oil &\\nGarlic   \n",
       "9  Mushroom\\nTruffle           Thin         White\\nSauce   \n",
       "\n",
       "                                         Cheese  \\\n",
       "0                                    Mozzarella   \n",
       "1                                    Mozzarella   \n",
       "2                          Mozzarella,\\nCheddar   \n",
       "3                                    Mozzarella   \n",
       "4                                    Mozzarella   \n",
       "5                                    Mozzarella   \n",
       "6  Mozzarella,\\nParmesan,\\nGorgonzola,\\nRicotta   \n",
       "7                                    Mozzarella   \n",
       "8                              Feta, Mozzarella   \n",
       "9                                    Mozzarella   \n",
       "\n",
       "                                       Toppings  \n",
       "0                                         Basil  \n",
       "1                                     Pepperoni  \n",
       "2          Grilled Chicken, Red Onion, Cilantro  \n",
       "3       Bell Peppers, Olives, Mushrooms, Onions  \n",
       "4                                Ham, Pineapple  \n",
       "5                Pepperoni, Sausage, Bacon, Ham  \n",
       "6                                             —  \n",
       "7     Grilled Chicken, Red Onion, Ranch Drizzle  \n",
       "8  Kalamata Olives, Spinach, Sun-dried Tomatoes  \n",
       "9                        Mushrooms, Truffle Oil  "
      ]
     },
     "execution_count": 7,
     "metadata": {},
     "output_type": "execute_result"
    }
   ],
   "source": [
    "df"
   ]
  },
  {
   "cell_type": "code",
   "execution_count": 6,
   "id": "e70eb49e",
   "metadata": {},
   "outputs": [
    {
     "data": {
      "text/plain": [
       "['Margherita | Thin | Tomato | Mozzarella | Basil',\n",
       " 'Pepperoni | Classic | Tomato | Mozzarella | Pepperoni',\n",
       " 'BBQ Chicken | Hand-\\ntossed | BBQ | Mozzarella,\\nCheddar | Grilled Chicken, Red Onion, Cilantro',\n",
       " 'Veggie\\nSupreme | Whole\\nWheat | Tomato | Mozzarella | Bell Peppers, Olives, Mushrooms, Onions',\n",
       " 'Hawaiian | Classic | Tomato | Mozzarella | Ham, Pineapple',\n",
       " 'Meat Lovers | Thick | Tomato | Mozzarella | Pepperoni, Sausage, Bacon, Ham',\n",
       " 'Four Cheese | Thin | Tomato | Mozzarella,\\nParmesan,\\nGorgonzola,\\nRicotta | —',\n",
       " 'Buffalo\\nChicken | Hand-\\ntossed | Buffalo\\nSauce | Mozzarella | Grilled Chicken, Red Onion, Ranch Drizzle',\n",
       " 'Mediterranean | Thin | Olive Oil &\\nGarlic | Feta, Mozzarella | Kalamata Olives, Spinach, Sun-dried Tomatoes',\n",
       " 'Mushroom\\nTruffle | Thin | White\\nSauce | Mozzarella | Mushrooms, Truffle Oil']"
      ]
     },
     "execution_count": 6,
     "metadata": {},
     "output_type": "execute_result"
    }
   ],
   "source": [
    "texts"
   ]
  },
  {
   "cell_type": "code",
   "execution_count": 13,
   "id": "02a805fa",
   "metadata": {},
   "outputs": [
    {
     "data": {
      "text/plain": [
       "{'Pizza Name': 'Pepperoni',\n",
       " 'Crust\\nType': 'Classic',\n",
       " 'Sauce': 'Tomato',\n",
       " 'Cheese': 'Mozzarella',\n",
       " 'Toppings': 'Pepperoni'}"
      ]
     },
     "execution_count": 13,
     "metadata": {},
     "output_type": "execute_result"
    }
   ],
   "source": [
    "df.to_dict(orient=\"records\")[1]"
   ]
  },
  {
   "cell_type": "code",
   "execution_count": null,
   "id": "2768e7c3",
   "metadata": {},
   "outputs": [],
   "source": []
  }
 ],
 "metadata": {
  "kernelspec": {
   "display_name": "Python 3",
   "language": "python",
   "name": "python3"
  },
  "language_info": {
   "codemirror_mode": {
    "name": "ipython",
    "version": 3
   },
   "file_extension": ".py",
   "mimetype": "text/x-python",
   "name": "python",
   "nbconvert_exporter": "python",
   "pygments_lexer": "ipython3",
   "version": "3.11.2"
  }
 },
 "nbformat": 4,
 "nbformat_minor": 5
}
