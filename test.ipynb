{
 "cells": [
  {
   "cell_type": "code",
   "execution_count": 1,
   "id": "8bb999e0",
   "metadata": {},
   "outputs": [],
   "source": [
    "import google.generativeai as genai\n",
    "import os\n",
    "from dotenv import load_dotenv\n",
    "\n",
    "# Set your API key\n",
    "load_dotenv()\n",
    "gemini_api_key = os.getenv(\"GOOGLE_API_KEY\")\n",
    "genai.configure(api_key=gemini_api_key)\n",
    "\n",
    "# Initialize the Gemini model\n",
    "llm = genai.GenerativeModel('gemini-2.0-flash')"
   ]
  },
  {
   "cell_type": "code",
   "execution_count": 1,
   "id": "9b61c8f1",
   "metadata": {},
   "outputs": [],
   "source": [
    "import pdfplumber\n",
    "import pandas as pd\n",
    "\n",
    "def extract_tables_from_pdf(pdf_path):\n",
    "    tables = []\n",
    "    with pdfplumber.open(pdf_path) as pdf:\n",
    "        for page in pdf.pages:\n",
    "            table = page.extract_table()\n",
    "            if table:\n",
    "                df = pd.DataFrame(table[1:], columns=table[0])\n",
    "                tables.append(df)\n",
    "    return pd.concat(tables, ignore_index=True) if tables else pd.DataFrame()"
   ]
  },
  {
   "cell_type": "code",
   "execution_count": 2,
   "id": "6316c0bf",
   "metadata": {},
   "outputs": [],
   "source": [
    "pdf_path = \"data/pizza_ingredients.pdf\""
   ]
  },
  {
   "cell_type": "code",
   "execution_count": 3,
   "id": "8156fab6",
   "metadata": {},
   "outputs": [],
   "source": [
    "df = extract_tables_from_pdf(pdf_path)"
   ]
  },
  {
   "cell_type": "code",
   "execution_count": 4,
   "id": "0d56062c",
   "metadata": {},
   "outputs": [],
   "source": [
    "texts = df.apply(lambda row: \" | \".join(row.astype(str)), axis=1).tolist()"
   ]
  },
  {
   "cell_type": "code",
   "execution_count": 13,
   "id": "02a805fa",
   "metadata": {},
   "outputs": [],
   "source": [
    "json = df.to_dict(orient=\"records\")"
   ]
  },
  {
   "cell_type": "code",
   "execution_count": 10,
   "id": "2768e7c3",
   "metadata": {},
   "outputs": [
    {
     "name": "stderr",
     "output_type": "stream",
     "text": [
      "C:\\Users\\Emil.Javadli\\AppData\\Roaming\\Python\\Python311\\site-packages\\tqdm\\auto.py:21: TqdmWarning: IProgress not found. Please update jupyter and ipywidgets. See https://ipywidgets.readthedocs.io/en/stable/user_install.html\n",
      "  from .autonotebook import tqdm as notebook_tqdm\n"
     ]
    }
   ],
   "source": [
    "from embed_store import build_faiss_index, get_embeddings\n",
    "import faiss"
   ]
  },
  {
   "cell_type": "code",
   "execution_count": 18,
   "id": "e6270cd1",
   "metadata": {},
   "outputs": [
    {
     "data": {
      "text/plain": [
       "{'Pizza Name': 'Margherita',\n",
       " 'Crust\\nType': 'Thin',\n",
       " 'Sauce': 'Tomato',\n",
       " 'Cheese': 'Mozzarella',\n",
       " 'Toppings': 'Basil'}"
      ]
     },
     "execution_count": 18,
     "metadata": {},
     "output_type": "execute_result"
    }
   ],
   "source": [
    "json[0]"
   ]
  },
  {
   "cell_type": "code",
   "execution_count": 20,
   "id": "0fcba3fa",
   "metadata": {},
   "outputs": [
    {
     "data": {
      "text/plain": [
       "array([[-0.0038396 ,  0.07903948, -0.11241125, ..., -0.01579538,\n",
       "         0.0650669 ,  0.05390403],\n",
       "       [-0.07182054,  0.02036707, -0.05242678, ...,  0.0403441 ,\n",
       "         0.07116739,  0.0442771 ],\n",
       "       [-0.01778399,  0.00353835, -0.07590371, ...,  0.01286497,\n",
       "        -0.03862418, -0.00466059],\n",
       "       ...,\n",
       "       [-0.07004339, -0.06089054, -0.05413391, ...,  0.0301772 ,\n",
       "         0.03380238,  0.06286311],\n",
       "       [ 0.03541187,  0.04458203, -0.02035068, ...,  0.03373704,\n",
       "         0.02461265, -0.04009247],\n",
       "       [ 0.04753882, -0.0023236 , -0.0302921 , ...,  0.0099019 ,\n",
       "         0.10350329, -0.00841073]], dtype=float32)"
      ]
     },
     "execution_count": 20,
     "metadata": {},
     "output_type": "execute_result"
    }
   ],
   "source": [
    "get_embeddings(json)"
   ]
  },
  {
   "cell_type": "code",
   "execution_count": 22,
   "id": "424d93f3",
   "metadata": {},
   "outputs": [],
   "source": [
    "from rag_pipeline import retrieve_context, generate_answer"
   ]
  },
  {
   "cell_type": "code",
   "execution_count": 26,
   "id": "3aeffdb7",
   "metadata": {},
   "outputs": [],
   "source": [
    "index = build_faiss_index(json)"
   ]
  },
  {
   "cell_type": "code",
   "execution_count": 31,
   "id": "2b178438",
   "metadata": {},
   "outputs": [
    {
     "data": {
      "text/plain": [
       "(array([[0.47110212, 0.34942874, 0.34083316]], dtype=float32),\n",
       " array([[1, 0, 6]], dtype=int64))"
      ]
     },
     "execution_count": 31,
     "metadata": {},
     "output_type": "execute_result"
    }
   ],
   "source": [
    "index.search(get_embeddings([json]), 3)"
   ]
  },
  {
   "cell_type": "code",
   "execution_count": 28,
   "id": "3ca20a05",
   "metadata": {},
   "outputs": [
    {
     "data": {
      "text/plain": [
       "[{'Pizza Name': 'Margherita',\n",
       "  'Crust\\nType': 'Thin',\n",
       "  'Sauce': 'Tomato',\n",
       "  'Cheese': 'Mozzarella',\n",
       "  'Toppings': 'Basil'},\n",
       " {'Pizza Name': 'Pepperoni',\n",
       "  'Crust\\nType': 'Classic',\n",
       "  'Sauce': 'Tomato',\n",
       "  'Cheese': 'Mozzarella',\n",
       "  'Toppings': 'Pepperoni'},\n",
       " {'Pizza Name': 'Mushroom\\nTruffle',\n",
       "  'Crust\\nType': 'Thin',\n",
       "  'Sauce': 'White\\nSauce',\n",
       "  'Cheese': 'Mozzarella',\n",
       "  'Toppings': 'Mushrooms, Truffle Oil'},\n",
       " {'Pizza Name': 'Veggie\\nSupreme',\n",
       "  'Crust\\nType': 'Whole\\nWheat',\n",
       "  'Sauce': 'Tomato',\n",
       "  'Cheese': 'Mozzarella',\n",
       "  'Toppings': 'Bell Peppers, Olives, Mushrooms, Onions'},\n",
       " {'Pizza Name': 'Four Cheese',\n",
       "  'Crust\\nType': 'Thin',\n",
       "  'Sauce': 'Tomato',\n",
       "  'Cheese': 'Mozzarella,\\nParmesan,\\nGorgonzola,\\nRicotta',\n",
       "  'Toppings': '—'}]"
      ]
     },
     "execution_count": 28,
     "metadata": {},
     "output_type": "execute_result"
    }
   ],
   "source": [
    "retrieve_context(\"What are the main ingredients in a Margherita pizza?\", index, json, k=5)"
   ]
  }
 ],
 "metadata": {
  "kernelspec": {
   "display_name": "Python 3",
   "language": "python",
   "name": "python3"
  },
  "language_info": {
   "codemirror_mode": {
    "name": "ipython",
    "version": 3
   },
   "file_extension": ".py",
   "mimetype": "text/x-python",
   "name": "python",
   "nbconvert_exporter": "python",
   "pygments_lexer": "ipython3",
   "version": "3.11.2"
  }
 },
 "nbformat": 4,
 "nbformat_minor": 5
}
